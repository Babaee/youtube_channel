{
 "cells": [
  {
   "cell_type": "code",
   "execution_count": 1,
   "metadata": {},
   "outputs": [],
   "source": [
    "import numpy as np\n",
    "import matplotlib.pyplot as plt\n",
    "import pandas as pd\n",
    "from scipy.optimize import curve_fit"
   ]
  },
  {
   "cell_type": "markdown",
   "metadata": {},
   "source": [
    "# The Goal of Curve Fitting"
   ]
  },
  {
   "cell_type": "markdown",
   "metadata": {},
   "source": [
    "Purpose of interpolation\n",
    "\n",
    "Given some $x_{\\text{data}}=[...]$ and $y_{\\text{data}}=[...]$ and a model function $f$ that depends on unknown parameters $\\beta$ the goal is to find the optimal set of parameters $\\beta$ such that the function $y=f(x,\\beta)$ *best resembles* the data.\n",
    "\n",
    "* One way of doing this is to minimize $\\sum_i (f(x_i,\\beta) - y_i)^2$ by adjusting the parameters in $\\beta$. Here $x_i$ and $y_i$ are the ith data point. This is called the method of least squares\n",
    "\n",
    "* If the $y_i$ data points have corresponding errors on them, then minimizing $\\sum_i (f(x_i,\\beta) - y_i)^2/\\sigma_i^2$ gives the so called **maximum-likelihood** estimate for $\\beta$. Given the data $x_i$ and $y_i$, the the value of $\\beta$ obtained through this method is the most likely configuration."
   ]
  },
  {
   "cell_type": "markdown",
   "metadata": {},
   "source": [
    "Lets look at some sample data"
   ]
  },
  {
   "cell_type": "code",
   "execution_count": 3,
   "metadata": {},
   "outputs": [],
   "source": [
    "x_data = np.array([0.        , 0.15789474, 0.31578947, 0.47368421, 0.63157895,\n",
    "       0.78947368, 0.94736842, 1.10526316, 1.26315789, 1.42105263,\n",
    "       1.57894737, 1.73684211, 1.89473684, 2.05263158, 2.21052632,\n",
    "       2.36842105, 2.52631579, 2.68421053, 2.84210526, 3.        ])\n",
    "y_data = np.array([  2.95258285,   2.49719803,  -2.1984975 ,  -4.88744346,\n",
    "        -7.41326345,  -8.44574157, -10.01878504, -13.83743553,\n",
    "       -12.91548145, -15.41149046, -14.93516299, -13.42514157,\n",
    "       -14.12110495, -17.6412464 , -16.1275509 , -16.11533771,\n",
    "       -15.66076021, -13.48938865, -11.33918701, -11.70467566])"
   ]
  },
  {
   "cell_type": "code",
   "execution_count": 4,
   "metadata": {},
   "outputs": [
    {
     "data": {
      "image/png": "[encoded data removed]",
      "text/plain": [
       "<Figure size 432x288 with 1 Axes>"
      ]
     },
     "metadata": {
      "needs_background": "light"
     },
     "output_type": "display_data"
    }
   ],
   "source": [
    "plt.scatter(x_data,y_data)\n",
    "plt.show()"
   ]
  },
  {
   "cell_type": "markdown",
   "metadata": {},
   "source": [
    "Here is a model where $\\beta = (a,b,c)$ and\n",
    "\n",
    "$$f(x, \\beta) = f(x, a, b, c) = a(x-b)^2 + c$$\n",
    "\n",
    "We want to find the optimal values of $a$, $b$, and $c$ that fit the data above"
   ]
  },
  {
   "cell_type": "markdown",
   "metadata": {},
   "source": [
    "This requires two steps\n",
    "\n",
    "1. Define model function\n",
    "2. Use scipy's `curve_fit` function. This requires giving initial guesses for $\\beta$, which one needs to obtain carefuly for complicated models, or else the function might not work."
   ]
  },
  {
   "cell_type": "code",
   "execution_count": 6,
   "metadata": {},
   "outputs": [],
   "source": [
    "def model_f(x, a, b, c):\n",
    "    return a*(x-b)**2 + c"
   ]
  },
  {
   "cell_type": "code",
   "execution_count": 7,
   "metadata": {},
   "outputs": [],
   "source": [
    "popt, pcov = curve_fit(model_f, x_data, y_data, p0=[3,2,-16])"
   ]
  },
  {
   "cell_type": "markdown",
   "metadata": {},
   "source": [
    "Two things are returned here:\n",
    "\n",
    "1. `popt`, which gives the optimal parameters for the `model_f` given the data "
   ]
  },
  {
   "cell_type": "code",
   "execution_count": 8,
   "metadata": {},
   "outputs": [
    {
     "data": {
      "text/plain": [
       "array([  4.92207991,   2.00492121, -16.04690266])"
      ]
     },
     "execution_count": 8,
     "metadata": {},
     "output_type": "execute_result"
    }
   ],
   "source": [
    "popt"
   ]
  },
  {
   "cell_type": "markdown",
   "metadata": {},
   "source": [
    "2. `pcov`: the covariance matrix, which gives an estimate of the \"error\" of the parameters (based on how sensitive the \"goodness-of-fit\" is to changing them) and the relation the parameters have to eachother (are two seperate parameters really needed?)"
   ]
  },
  {
   "cell_type": "code",
   "execution_count": 9,
   "metadata": {},
   "outputs": [
    {
     "data": {
      "text/plain": [
       "array([[ 0.12827822, -0.01315915, -0.07363194],\n",
       "       [-0.01315915,  0.00222114,  0.00322289],\n",
       "       [-0.07363194,  0.00322289,  0.13377697]])"
      ]
     },
     "execution_count": 9,
     "metadata": {},
     "output_type": "execute_result"
    }
   ],
   "source": [
    "pcov"
   ]
  },
  {
   "cell_type": "markdown",
   "metadata": {},
   "source": [
    "Lets plot the function with the optimal parameters next to the data"
   ]
  },
  {
   "cell_type": "code",
   "execution_count": 10,
   "metadata": {},
   "outputs": [],
   "source": [
    "a_opt, b_opt, c_opt = popt\n",
    "x_model = np.linspace(min(x_data), max(x_data), 100)\n",
    "y_model = model_f(x_model, a_opt, b_opt, c_opt)"
   ]
  },
  {
   "cell_type": "markdown",
   "metadata": {},
   "source": [
    "Plot"
   ]
  },
  {
   "cell_type": "code",
   "execution_count": 11,
   "metadata": {},
   "outputs": [
    {
     "data": {
      "image/png": "[encoded data removed]",
      "text/plain": [
       "<Figure size 432x288 with 1 Axes>"
      ]
     },
     "metadata": {
      "needs_background": "light"
     },
     "output_type": "display_data"
    }
   ],
   "source": [
    "plt.scatter(x_data,y_data)\n",
    "plt.plot(x_model,y_model, color='r')\n",
    "plt.show()"
   ]
  },
  {
   "cell_type": "markdown",
   "metadata": {},
   "source": [
    "`pcov` is difficult to interpret, but we can do so as follows.\n",
    "\n",
    "* the \"error\" of a parameter in the model is related to how sensitive the model is to that parameter. Does changing the parameter slightly give a better fit? (i.e. minimize $\\sum_i (f(x_i,\\beta) - y_i)^2$)\n",
    "\n",
    "Lets look at an example below"
   ]
  },
  {
   "cell_type": "code",
   "execution_count": 12,
   "metadata": {},
   "outputs": [],
   "source": [
    "def fit_f(x, a, b, c, d):\n",
    "    return a*(x-b)**2 + c + d*0.0001*np.cos(x)"
   ]
  },
  {
   "cell_type": "code",
   "execution_count": 13,
   "metadata": {},
   "outputs": [],
   "source": [
    "popt, pcov = curve_fit(fit_f, x_data, y_data, p0=[1,2,-16,1])"
   ]
  },
  {
   "cell_type": "markdown",
   "metadata": {},
   "source": [
    "Lets look at a color plot of the `pcov` matrix:"
   ]
  },
  {
   "cell_type": "code",
   "execution_count": 14,
   "metadata": {},
   "outputs": [
    {
     "data": {
      "text/plain": [
       "array([[ 1.45024157e-01, -4.03732292e-02,  4.08921392e-02,\n",
       "         3.05314578e+03],\n",
       "       [-4.03732292e-02,  7.20536914e-02, -3.07488304e-01,\n",
       "        -8.46750721e+03],\n",
       "       [ 4.08921392e-02, -3.07488304e-01,  1.52776217e+00,\n",
       "         3.78842284e+04],\n",
       "       [ 3.05314578e+03, -8.46750721e+03,  3.78842284e+04,\n",
       "         1.03326868e+09]])"
      ]
     },
     "execution_count": 14,
     "metadata": {},
     "output_type": "execute_result"
    }
   ],
   "source": [
    "pcov"
   ]
  },
  {
   "cell_type": "code",
   "execution_count": 15,
   "metadata": {},
   "outputs": [
    {
     "data": {
      "image/png": "[encoded data removed]",
      "text/plain": [
       "<Figure size 432x288 with 2 Axes>"
      ]
     },
     "metadata": {
      "needs_background": "light"
     },
     "output_type": "display_data"
    }
   ],
   "source": [
    "plt.imshow(np.log(np.abs(pcov)))\n",
    "plt.colorbar()\n",
    "plt.show()"
   ]
  },
  {
   "cell_type": "markdown",
   "metadata": {},
   "source": [
    "# Examples"
   ]
  },
  {
   "cell_type": "markdown",
   "metadata": {},
   "source": [
    "**Example 1: Fitting Gaussian Curves**"
   ]
  },
  {
   "cell_type": "markdown",
   "metadata": {},
   "source": [
    "Open some data"
   ]
  },
  {
   "cell_type": "code",
   "execution_count": 44,
   "metadata": {},
   "outputs": [],
   "source": [
    "df = pd.read_csv('../Data/curvefite1.csv')\n",
    "x_stuff = df.Channel\n",
    "y_stuff = df.Cs137 "
   ]
  },
  {
   "cell_type": "markdown",
   "metadata": {},
   "source": [
    "Make a plot"
   ]
  },
  {
   "cell_type": "code",
   "execution_count": 45,
   "metadata": {},
   "outputs": [
    {
     "data": {
      "text/plain": [
       "<matplotlib.collections.PathCollection at 0x10e4353e7f0>"
      ]
     },
     "execution_count": 45,
     "metadata": {},
     "output_type": "execute_result"
    },
    {
     "data": {
      "image/png": "[encoded data removed]",
      "text/plain": [
       "<Figure size 432x288 with 1 Axes>"
      ]
     },
     "metadata": {
      "needs_background": "light"
     },
     "output_type": "display_data"
    }
   ],
   "source": [
    "plt.scatter(x_stuff, y_stuff)"
   ]
  },
  {
   "cell_type": "markdown",
   "metadata": {},
   "source": [
    "This curve represents the photon spectrum of Cesium 137 (a common radioactive substance). The main curve represents the primary photon emission peak.\n",
    "\n",
    "* The mean value of the peak tells us about the energy of photons emitted\n",
    "* The Width tells us about the resolution of the detector.\n",
    "\n",
    "Typically we fit peaks like this to Gaussian curves and use $\\mu$ and $\\sigma$ to extract information about the two points above\n",
    "\n",
    "$$f(x, A, \\mu, \\sigma) = Ae^{-(x-\\mu)^2/\\sigma^2}$$"
   ]
  },
  {
   "cell_type": "code",
   "execution_count": 46,
   "metadata": {},
   "outputs": [],
   "source": [
    "def gauss_f(x,A,mu,sig):\n",
    "    return A*np.exp(-(x-mu)**2/sig**2)"
   ]
  },
  {
   "cell_type": "markdown",
   "metadata": {},
   "source": [
    "First we need to get the region of the data we're interested in"
   ]
  },
  {
   "cell_type": "code",
   "execution_count": 47,
   "metadata": {},
   "outputs": [],
   "source": [
    "x_data = x_stuff[(x_stuff>725) & (x_stuff<850)]\n",
    "y_data = y_stuff[(x_stuff>725) & (x_stuff<850)]"
   ]
  },
  {
   "cell_type": "markdown",
   "metadata": {},
   "source": [
    "Plot the subregion"
   ]
  },
  {
   "cell_type": "code",
   "execution_count": 48,
   "metadata": {},
   "outputs": [
    {
     "data": {
      "image/png": "[encoded data removed]",
      "text/plain": [
       "<Figure size 432x288 with 1 Axes>"
      ]
     },
     "metadata": {
      "needs_background": "light"
     },
     "output_type": "display_data"
    }
   ],
   "source": [
    "plt.scatter(x_data, y_data)\n",
    "plt.show()"
   ]
  },
  {
   "cell_type": "markdown",
   "metadata": {},
   "source": [
    "Now we curve fit to get the optimal parameters of the Gaussian curve"
   ]
  },
  {
   "cell_type": "code",
   "execution_count": 49,
   "metadata": {},
   "outputs": [],
   "source": [
    "popt, pcov = curve_fit(gauss_f, x_data, y_data, p0=[2000, 790, 60])"
   ]
  },
  {
   "cell_type": "code",
   "execution_count": 50,
   "metadata": {},
   "outputs": [
    {
     "data": {
      "text/plain": [
       "array([1939.55510383,  786.33851861,   57.78717218])"
      ]
     },
     "execution_count": 50,
     "metadata": {},
     "output_type": "execute_result"
    }
   ],
   "source": [
    "popt"
   ]
  },
  {
   "cell_type": "code",
   "execution_count": 51,
   "metadata": {},
   "outputs": [],
   "source": [
    "A_opt, mu_opt, sig_opt = popt\n",
    "x_model = np.linspace(min(x_data), max(x_data), 1000)\n",
    "y_model = gauss_f(x_model, A_opt, mu_opt, sig_opt)"
   ]
  },
  {
   "cell_type": "code",
   "execution_count": 52,
   "metadata": {},
   "outputs": [
    {
     "name": "stderr",
     "output_type": "stream",
     "text": [
      "<ipython-input-52-dbc30bd81bb3>:3: MatplotlibDeprecationWarning: Adding an axes using the same arguments as a previous axes currently reuses the earlier instance.  In a future version, a new instance will always be created and returned.  Meanwhile, this warning can be suppressed, and the future behavior ensured, by passing a unique label to each axes instance.\n",
      "  ax=plt.axes()\n"
     ]
    },
    {
     "data": {
      "image/png": "[encoded data removed]",
      "text/plain": [
       "<Figure size 432x288 with 1 Axes>"
      ]
     },
     "metadata": {
      "needs_background": "light"
     },
     "output_type": "display_data"
    }
   ],
   "source": [
    "plt.scatter(x_data, y_data)\n",
    "plt.plot(x_model, y_model, color='r')\n",
    "ax=plt.axes()\n",
    "ax.set_facecolor('k')\n",
    "plt.show()"
   ]
  },
  {
   "cell_type": "code",
   "execution_count": 25,
   "metadata": {},
   "outputs": [
    {
     "data": {
      "text/plain": [
       "array([1939.55510383,  786.33851861,   57.78717218])"
      ]
     },
     "execution_count": 25,
     "metadata": {},
     "output_type": "execute_result"
    }
   ],
   "source": [
    "popt"
   ]
  },
  {
   "cell_type": "code",
   "execution_count": 27,
   "metadata": {},
   "outputs": [
    {
     "data": {
      "text/plain": [
       "array([5.70257763, 0.14401935, 0.26427165])"
      ]
     },
     "execution_count": 27,
     "metadata": {},
     "output_type": "execute_result"
    }
   ],
   "source": [
    "np.sqrt(np.diag(pcov))"
   ]
  },
  {
   "cell_type": "markdown",
   "metadata": {},
   "source": [
    "**Example 2**\n",
    "\n",
    "Now suppose the data above has errors given by $\\delta_{y_i} = \\sqrt{y_i}$ for each data point $y_i$. (These are the true errors for a counting experiment)."
   ]
  },
  {
   "cell_type": "code",
   "execution_count": 28,
   "metadata": {},
   "outputs": [],
   "source": [
    "yerr_data = np.sqrt(y_data)"
   ]
  },
  {
   "cell_type": "code",
   "execution_count": 29,
   "metadata": {},
   "outputs": [
    {
     "data": {
      "image/png": "[encoded data removed]",
      "text/plain": [
       "<Figure size 432x288 with 1 Axes>"
      ]
     },
     "metadata": {
      "needs_background": "light"
     },
     "output_type": "display_data"
    }
   ],
   "source": [
    "plt.errorbar(x_data, y_data, yerr_data, ls='', color='k')\n",
    "plt.scatter(x_data, y_data, s=7, zorder=1000)\n",
    "plt.show()"
   ]
  },
  {
   "cell_type": "markdown",
   "metadata": {},
   "source": [
    "We can get the maximum likelihood estimator using `curve_fit`. "
   ]
  },
  {
   "cell_type": "code",
   "execution_count": 30,
   "metadata": {},
   "outputs": [
    {
     "data": {
      "text/plain": [
       "array([1936.83040985,  786.29515455,   57.88161227])"
      ]
     },
     "execution_count": 30,
     "metadata": {},
     "output_type": "execute_result"
    }
   ],
   "source": [
    "popt, pcov = curve_fit(gauss_f, x_data, y_data, sigma=yerr_data, p0=[2000, 790, 60])\n",
    "popt"
   ]
  },
  {
   "cell_type": "markdown",
   "metadata": {},
   "source": [
    "Note that the answer is slightly different than above. If all the $\\delta_{y_i}$ are the same then the answer doesn't differ from no errors at all."
   ]
  },
  {
   "cell_type": "markdown",
   "metadata": {},
   "source": [
    "**Example 3**\n",
    "\n",
    "The Leonard Weibeck Potential is given by\n",
    "\n",
    "$$V(r) = 4\\epsilon \\left[ \\left(\\frac{\\sigma}{r}\\right)^{12}-\\left(\\frac{\\sigma}{r}\\right)^{6}\\right]$$\n",
    "\n",
    "Find the optimal values for $\\sigma$ and $\\epsilon$"
   ]
  },
  {
   "cell_type": "code",
   "execution_count": 31,
   "metadata": {},
   "outputs": [],
   "source": [
    "r_data, V_data = np.loadtxt('../Data/curvefite2.txt')"
   ]
  },
  {
   "cell_type": "code",
   "execution_count": 32,
   "metadata": {},
   "outputs": [
    {
     "data": {
      "image/png": "[encoded data removed]",
      "text/plain": [
       "<Figure size 432x288 with 1 Axes>"
      ]
     },
     "metadata": {
      "needs_background": "light"
     },
     "output_type": "display_data"
    }
   ],
   "source": [
    "plt.scatter(r_data, V_data)\n",
    "plt.xlabel('$r$ [m]', fontsize=20)\n",
    "plt.ylabel('$V(r)$ [J]', fontsize=20)\n",
    "plt.show()"
   ]
  },
  {
   "cell_type": "markdown",
   "metadata": {},
   "source": [
    "First its probably a good idea to standardize our units. We can convert back after:\n",
    "\n",
    "* Multiply x-axis by `1e9`. This converts all quantities with dimenions of **meters** in this problem to **nanometers**\n",
    "\n",
    "* Divide y-axis by Boltzmann constant $k_B=1.3806452 × 10-23J/K$ This converts all quantites with dimensions of **joules** to **Kelvin**"
   ]
  },
  {
   "cell_type": "code",
   "execution_count": 33,
   "metadata": {},
   "outputs": [],
   "source": [
    "r_data*=1e9\n",
    "V_data/=1.38e-23"
   ]
  },
  {
   "cell_type": "code",
   "execution_count": 34,
   "metadata": {},
   "outputs": [
    {
     "data": {
      "image/png": "[encoded data removed]",
      "text/plain": [
       "<Figure size 432x288 with 1 Axes>"
      ]
     },
     "metadata": {
      "needs_background": "light"
     },
     "output_type": "display_data"
    }
   ],
   "source": [
    "plt.scatter(r_data, V_data)\n",
    "plt.xlabel('$r$ [nm]', fontsize=20)\n",
    "plt.ylabel('$V(r)$ [K]', fontsize=20)\n",
    "plt.show()"
   ]
  },
  {
   "cell_type": "markdown",
   "metadata": {},
   "source": [
    "In order to fit this data to the curve, we need to identify some key points for out initial parameter guess. From wikipedia:\n",
    "\n",
    "* The minimum of $V(r)$ is at $r=2^{1/6}\\sigma$\n",
    "* At the minimum, the potential has a value of $V(r)=-\\epsilon$"
   ]
  },
  {
   "cell_type": "code",
   "execution_count": 35,
   "metadata": {},
   "outputs": [],
   "source": [
    "def model_f(r, sigma, epsilon):\n",
    "    return 4*epsilon*((sigma/r)**12-(sigma/r)**6)"
   ]
  },
  {
   "cell_type": "markdown",
   "metadata": {},
   "source": [
    "Obtain initial guesses"
   ]
  },
  {
   "cell_type": "code",
   "execution_count": 36,
   "metadata": {},
   "outputs": [],
   "source": [
    "eps_init_guess = 120\n",
    "sig_init_guess = 2**(-1/6) * 0.4"
   ]
  },
  {
   "cell_type": "markdown",
   "metadata": {},
   "source": [
    "Get the optimal parameters"
   ]
  },
  {
   "cell_type": "code",
   "execution_count": 37,
   "metadata": {},
   "outputs": [],
   "source": [
    "popt, pcov = curve_fit(model_f, r_data, V_data, p0=[sig_init_guess,\n",
    "                                                    eps_init_guess])\n",
    "sig_opt, eps_opt = popt"
   ]
  },
  {
   "cell_type": "markdown",
   "metadata": {},
   "source": [
    "Lets plot data next to model"
   ]
  },
  {
   "cell_type": "code",
   "execution_count": 38,
   "metadata": {},
   "outputs": [],
   "source": [
    "r_model = np.linspace(min(r_data), max(r_data), 1000)\n",
    "V_model = model_f(r_model, sig_opt, eps_opt)"
   ]
  },
  {
   "cell_type": "code",
   "execution_count": 43,
   "metadata": {},
   "outputs": [
    {
     "name": "stderr",
     "output_type": "stream",
     "text": [
      "<ipython-input-43-e1e480925f75>:5: MatplotlibDeprecationWarning: Adding an axes using the same arguments as a previous axes currently reuses the earlier instance.  In a future version, a new instance will always be created and returned.  Meanwhile, this warning can be suppressed, and the future behavior ensured, by passing a unique label to each axes instance.\n",
      "  ax=plt.axes()\n"
     ]
    },
    {
     "data": {
      "image/png": "[encoded data removed]",
      "text/plain": [
       "<Figure size 432x288 with 1 Axes>"
      ]
     },
     "metadata": {
      "needs_background": "light"
     },
     "output_type": "display_data"
    }
   ],
   "source": [
    "plt.scatter(r_data, V_data)\n",
    "plt.plot(r_model, V_model, color='r')\n",
    "plt.xlabel('$r$ [nm]', fontsize=20)\n",
    "plt.ylabel('$V(r)$ [K]', fontsize=20)\n",
    "plt.show()"
   ]
  },
  {
   "cell_type": "code",
   "execution_count": 40,
   "metadata": {},
   "outputs": [
    {
     "data": {
      "text/plain": [
       "0.3414387956024161"
      ]
     },
     "execution_count": 40,
     "metadata": {},
     "output_type": "execute_result"
    }
   ],
   "source": [
    "sig_opt"
   ]
  },
  {
   "cell_type": "code",
   "execution_count": 41,
   "metadata": {},
   "outputs": [
    {
     "data": {
      "text/plain": [
       "124.98902614668191"
      ]
     },
     "execution_count": 41,
     "metadata": {},
     "output_type": "execute_result"
    }
   ],
   "source": [
    "eps_opt"
   ]
  }
 ],
 "metadata": {
  "kernelspec": {
   "display_name": "Python 3",
   "language": "python",
   "name": "python3"
  },
  "language_info": {
   "codemirror_mode": {
    "name": "ipython",
    "version": 3
   },
   "file_extension": ".py",
   "mimetype": "text/x-python",
   "name": "python",
   "nbconvert_exporter": "python",
   "pygments_lexer": "ipython3",
   "version": "3.8.5"
  }
 },
 "nbformat": 4,
 "nbformat_minor": 4
}
