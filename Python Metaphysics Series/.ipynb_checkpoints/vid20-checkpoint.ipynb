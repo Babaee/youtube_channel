{
 "cells": [
  {
   "cell_type": "code",
   "execution_count": 24,
   "metadata": {},
   "outputs": [],
   "source": [
    "import numpy as np\n",
    "import sympy as smp\n",
    "import matplotlib.pyplot as plt\n",
    "from scipy.integrate import dblquad"
   ]
  },
  {
   "cell_type": "markdown",
   "metadata": {},
   "source": [
    "The physics of a spinning top"
   ]
  },
  {
   "cell_type": "code",
   "execution_count": 19,
   "metadata": {},
   "outputs": [],
   "source": [
    "def f(t):\n",
    "    return np.sin(t)*np.sqrt(abs(np.cos(t))) / (np.sin(t) + 7/5) - 2*np.sin(t) + 2;"
   ]
  },
  {
   "cell_type": "code",
   "execution_count": 20,
   "metadata": {},
   "outputs": [],
   "source": [
    "t = np.linspace(-np.pi/2, np.pi/2, 1000)\n",
    "A = f(t)"
   ]
  },
  {
   "cell_type": "code",
   "execution_count": 21,
   "metadata": {},
   "outputs": [
    {
     "data": {
      "text/plain": [
       "(-3.0, 3.0)"
      ]
     },
     "execution_count": 21,
     "metadata": {},
     "output_type": "execute_result"
    },
    {
     "data": {
      "image/png": "[encoded data removed]",
      "text/plain": [
       "<Figure size 432x288 with 1 Axes>"
      ]
     },
     "metadata": {
      "needs_background": "light"
     },
     "output_type": "display_data"
    }
   ],
   "source": [
    "plt.plot(A*np.cos(t), A*np.sin(t))\n",
    "plt.xlim(-3,3)"
   ]
  },
  {
   "cell_type": "markdown",
   "metadata": {},
   "source": [
    "$$I = \\iiint \\rho(x, y, z) |\\vec{r}_p|^2 dV = \\int_Z \\int_r \\int_0^{2\\pi} \\rho(r, z) r^2 r d\\phi dr dz = 2 \\pi \\int_r \\int_z \\rho(r, z) r^3 dr dz $$"
   ]
  },
  {
   "cell_type": "markdown",
   "metadata": {},
   "source": [
    "In this $r-z$ plane we can convert to polar coordinates $R = \\sqrt{r^2 + z^2}$ and $\\beta = \\tan^{-1}(z/r)$ and let the edge of the curve by given by $R_E(\\beta)$ so that\n",
    "\n",
    "$$I = 2 \\pi \\int_{-\\pi/2}^{\\pi/2} \\int_{0}^{R_E(\\beta)} \\rho(R, \\beta) R^4 \\cos^3(\\beta) dR~d\\beta$$\n",
    "\n",
    "Let $R' = R/R_0$ and $\\rho(R, \\beta) = \\rho_0 h(R, \\beta)$ \n",
    "\n",
    "$$\\boxed{\\frac{I}{\\rho_0 R_0^5} = 2 \\pi \\int_{-\\pi/2}^{\\pi/2} \\int_{0}^{R_E'(\\beta)} h(R', \\beta) R'^4 \\cos^3(\\beta) dR'~d\\beta}$$"
   ]
  },
  {
   "cell_type": "markdown",
   "metadata": {},
   "source": [
    "Meanwhile the mass is given by\n",
    "\n",
    "$$M = \\iiint \\rho(x, y, z)  dV = 2 \\pi \\int_{-\\pi/2}^{\\pi/2} \\int_{0}^{R_E(\\beta)} \\rho(R, \\beta) R^2 \\cos(\\beta) dR~d\\beta $$\n",
    "\n",
    "so that\n",
    "\n",
    "$$ \\boxed{\\frac{M}{\\rho_0 R_0^3} = 2 \\pi \\int_{-\\pi/2}^{\\pi/2} \\int_{0}^{R_E'(\\beta)} h(R, \\beta) R'^2 \\cos(\\beta) dR'~d\\beta} $$\n",
    "\n",
    "Then we can express everything as \n",
    "\n",
    "$$ \\boxed{\\frac{I}{MR^2} = \\frac{2 \\pi \\int_{-\\pi/2}^{\\pi/2} \\int_{0}^{R_E'(\\beta)} h(R', \\beta) R'^4 \\cos^3(\\beta) dR'~d\\beta}{2 \\pi \\int_{-\\pi/2}^{\\pi/2} \\int_{0}^{R_E'(\\beta)} h(R, \\beta) R'^2 \\cos(\\beta) dR'~d\\beta}}$$"
   ]
  },
  {
   "cell_type": "code",
   "execution_count": 34,
   "metadata": {},
   "outputs": [],
   "source": [
    "def integrand_I(R, beta):\n",
    "    return R**4 * np.cos(beta)**3\n",
    "def integrand_M(R, beta):\n",
    "    return R**2 * np.cos(beta)"
   ]
  },
  {
   "cell_type": "markdown",
   "metadata": {},
   "source": [
    "**Test Case**: A sphere $h'=1$ and $R_E'(\\beta) = 1$"
   ]
  },
  {
   "cell_type": "code",
   "execution_count": 36,
   "metadata": {},
   "outputs": [
    {
     "name": "stdout",
     "output_type": "stream",
     "text": [
      "0.4000000000000001\n"
     ]
    }
   ],
   "source": [
    "num = dblquad(integrand_I, -np.pi/2, np.pi/2, lambda x:0, lambda x: 1)[0]\n",
    "dem = dblquad(integrand_M, -np.pi/2, np.pi/2, lambda x:0, lambda x: 1)[0]\n",
    "I_MR2 = num/dem\n",
    "print(I_MR2)"
   ]
  },
  {
   "cell_type": "markdown",
   "metadata": {},
   "source": [
    "Now for the heart curve (for now $h'=1$)"
   ]
  },
  {
   "cell_type": "code",
   "execution_count": 37,
   "metadata": {},
   "outputs": [
    {
     "name": "stdout",
     "output_type": "stream",
     "text": [
      "1.978801714287715\n"
     ]
    }
   ],
   "source": [
    "num = dblquad(integrand_I, -np.pi/2, np.pi/2, lambda x:0, lambda x: f(x))[0]\n",
    "dem = dblquad(integrand_M, -np.pi/2, np.pi/2, lambda x:0, lambda x: f(x))[0]\n",
    "I_MR2 = num/dem\n",
    "print(I_MR2)"
   ]
  }
 ],
 "metadata": {
  "kernelspec": {
   "display_name": "Python 3",
   "language": "python",
   "name": "python3"
  },
  "language_info": {
   "codemirror_mode": {
    "name": "ipython",
    "version": 3
   },
   "file_extension": ".py",
   "mimetype": "text/x-python",
   "name": "python",
   "nbconvert_exporter": "python",
   "pygments_lexer": "ipython3",
   "version": "3.8.5"
  }
 },
 "nbformat": 4,
 "nbformat_minor": 4
}
