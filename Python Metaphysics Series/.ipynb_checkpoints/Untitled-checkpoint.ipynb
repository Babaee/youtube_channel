{
 "cells": [
  {
   "cell_type": "code",
   "execution_count": 349,
   "metadata": {},
   "outputs": [],
   "source": [
    "import numpy as np\n",
    "import scipy as sp\n",
    "from scipy.linalg import eig, eigh\n",
    "import sympy as smp\n",
    "from sympy import Matrix\n",
    "from sympy.physics.quantum import TensorProduct\n",
    "from sympy.matrices import matrix_multiply_elementwise"
   ]
  },
  {
   "cell_type": "code",
   "execution_count": 273,
   "metadata": {},
   "outputs": [
    {
     "data": {
      "text/latex": [
       "$\\displaystyle \\left[\\begin{matrix}\\frac{3}{4} & 0\\\\0 & \\frac{3}{4}\\end{matrix}\\right]$"
      ],
      "text/plain": [
       "Matrix([\n",
       "[3/4,   0],\n",
       "[  0, 3/4]])"
      ]
     },
     "execution_count": 273,
     "metadata": {},
     "output_type": "execute_result"
    }
   ],
   "source": [
    "Sxa = smp.Rational(1, 2)* smp.Matrix([[0, 1],\n",
    "                                     [1, 0]])\n",
    "Sya = smp.Rational(1, 2)* smp.Matrix([[0, -smp.I],\n",
    "                                      [smp.I, 0]])\n",
    "Sza = smp.Rational(1, 2)* smp.Matrix([[1, 0],\n",
    "                  [0, -1]])\n",
    "\n",
    "Sxb = 1/smp.sqrt(2) * smp.Matrix([[0, 1, 0],\n",
    "                                  [1, 0, 1],\n",
    "                                  [0, 1, 0]])\n",
    "Syb = 1/smp.sqrt(2) * smp.Matrix([[0, -smp.I, 0],\n",
    "                                  [smp.I, 0, -smp.I],\n",
    "                                  [0, smp.I, 0]])\n",
    "Szb = smp.Matrix([[1, 0, 0],\n",
    "                  [0, 0, 0],\n",
    "                  [0, 0, -1]])\n",
    "Sxa@Sxa + Sya@Sya + Sza@Sza"
   ]
  },
  {
   "cell_type": "code",
   "execution_count": 274,
   "metadata": {},
   "outputs": [
    {
     "data": {
      "text/latex": [
       "$\\displaystyle \\left[\\begin{matrix}0 & \\frac{1}{2}\\\\\\frac{1}{2} & 0\\end{matrix}\\right]$"
      ],
      "text/plain": [
       "Matrix([\n",
       "[  0, 1/2],\n",
       "[1/2,   0]])"
      ]
     },
     "execution_count": 274,
     "metadata": {},
     "output_type": "execute_result"
    }
   ],
   "source": [
    "Sxa"
   ]
  },
  {
   "cell_type": "code",
   "execution_count": 275,
   "metadata": {},
   "outputs": [],
   "source": [
    "Sx_2 = TensorProduct(Sxb, smp.eye(2)) + TensorProduct(smp.eye(3), Sxa)\n",
    "Sy_2 = TensorProduct(Syb, smp.eye(2)) + TensorProduct(smp.eye(3), Sya)\n",
    "Sz_2 = TensorProduct(Szb, smp.eye(2)) + TensorProduct(smp.eye(3), Sza)\n",
    "S2_2 = Sx_2@Sx_2 + Sy_2@Sy_2 +Sz_2@Sz_2"
   ]
  },
  {
   "cell_type": "markdown",
   "metadata": {},
   "source": [
    "Check that the matrices commute"
   ]
  },
  {
   "cell_type": "code",
   "execution_count": 331,
   "metadata": {},
   "outputs": [
    {
     "data": {
      "text/latex": [
       "$\\displaystyle \\left[\\begin{matrix}0 & 0 & 0 & 0 & 0 & 0\\\\0 & 0 & 0 & 0 & 0 & 0\\\\0 & 0 & 0 & 0 & 0 & 0\\\\0 & 0 & 0 & 0 & 0 & 0\\\\0 & 0 & 0 & 0 & 0 & 0\\\\0 & 0 & 0 & 0 & 0 & 0\\end{matrix}\\right]$"
      ],
      "text/plain": [
       "Matrix([\n",
       "[0, 0, 0, 0, 0, 0],\n",
       "[0, 0, 0, 0, 0, 0],\n",
       "[0, 0, 0, 0, 0, 0],\n",
       "[0, 0, 0, 0, 0, 0],\n",
       "[0, 0, 0, 0, 0, 0],\n",
       "[0, 0, 0, 0, 0, 0]])"
      ]
     },
     "execution_count": 331,
     "metadata": {},
     "output_type": "execute_result"
    }
   ],
   "source": [
    "S2_2@Sz_2 - Sz_2@S2_2"
   ]
  },
  {
   "cell_type": "code",
   "execution_count": 292,
   "metadata": {},
   "outputs": [
    {
     "data": {
      "text/plain": [
       "[(3/4,\n",
       "  2,\n",
       "  [Matrix([\n",
       "   [       0],\n",
       "   [-sqrt(2)],\n",
       "   [       1],\n",
       "   [       0],\n",
       "   [       0],\n",
       "   [       0]]),\n",
       "   Matrix([\n",
       "   [         0],\n",
       "   [         0],\n",
       "   [         0],\n",
       "   [-sqrt(2)/2],\n",
       "   [         1],\n",
       "   [         0]])]),\n",
       " (15/4,\n",
       "  4,\n",
       "  [Matrix([\n",
       "   [1],\n",
       "   [0],\n",
       "   [0],\n",
       "   [0],\n",
       "   [0],\n",
       "   [0]]),\n",
       "   Matrix([\n",
       "   [        0],\n",
       "   [sqrt(2)/2],\n",
       "   [        1],\n",
       "   [        0],\n",
       "   [        0],\n",
       "   [        0]]),\n",
       "   Matrix([\n",
       "   [      0],\n",
       "   [      0],\n",
       "   [      0],\n",
       "   [sqrt(2)],\n",
       "   [      1],\n",
       "   [      0]]),\n",
       "   Matrix([\n",
       "   [0],\n",
       "   [0],\n",
       "   [0],\n",
       "   [0],\n",
       "   [0],\n",
       "   [1]])])]"
      ]
     },
     "execution_count": 292,
     "metadata": {},
     "output_type": "execute_result"
    }
   ],
   "source": [
    "info = S2_2.eigenvects(simplify=True)\n",
    "info"
   ]
  },
  {
   "cell_type": "code",
   "execution_count": 321,
   "metadata": {},
   "outputs": [],
   "source": [
    "eig_vals = np.array(S2_2.eigenvals(multiple=True), dtype=float)"
   ]
  },
  {
   "cell_type": "markdown",
   "metadata": {},
   "source": [
    "Eigenvalue $E=s(s+1) \\implies s= \\left(-1 + \\sqrt{1+4E}\\right)/2$"
   ]
  },
  {
   "cell_type": "code",
   "execution_count": 322,
   "metadata": {},
   "outputs": [
    {
     "data": {
      "text/latex": [
       "$\\displaystyle \\left[\\begin{matrix}0.5 & 0.5 & 1.5 & 1.5 & 1.5 & 1.5\\end{matrix}\\right]$"
      ],
      "text/plain": [
       "Matrix([[0.5, 0.5, 1.5, 1.5, 1.5, 1.5]])"
      ]
     },
     "execution_count": 322,
     "metadata": {},
     "output_type": "execute_result"
    }
   ],
   "source": [
    "tot_spins = smp.Matrix((-1+np.sqrt(1+4*eig_vals))/2)\n",
    "tot_spins.T"
   ]
  },
  {
   "cell_type": "code",
   "execution_count": 345,
   "metadata": {},
   "outputs": [
    {
     "data": {
      "text/latex": [
       "$\\displaystyle \\left[\\begin{matrix}\\frac{1}{2} & - \\frac{1}{2} & \\frac{3}{2} & \\frac{1}{2} & - \\frac{1}{2} & - \\frac{3}{2}\\end{matrix}\\right]$"
      ],
      "text/plain": [
       "Matrix([[1/2, -1/2, 3/2, 1/2, -1/2, -3/2]])"
      ]
     },
     "execution_count": 345,
     "metadata": {},
     "output_type": "execute_result"
    }
   ],
   "source": [
    "eig_vecs = [vec/vec.norm() for le in info for vec in le[2]]\n",
    "z_spins = smp.Matrix([eig_vecs[i].T@Sz_2@eig_vecs[i] for i in range(len(eig_vecs))]).T\n",
    "z_spins"
   ]
  },
  {
   "cell_type": "code",
   "execution_count": 352,
   "metadata": {},
   "outputs": [
    {
     "data": {
      "text/latex": [
       "$\\displaystyle \\left[\\begin{matrix}0 & 0 & 0 & \\frac{1}{3} & \\frac{2}{3} & 0\\end{matrix}\\right]$"
      ],
      "text/plain": [
       "Matrix([[0, 0, 0, 1/3, 2/3, 0]])"
      ]
     },
     "execution_count": 352,
     "metadata": {},
     "output_type": "execute_result"
    }
   ],
   "source": [
    "matrix_multiply_elementwise(eig_vecs[1], eig_vecs[1]).T"
   ]
  },
  {
   "cell_type": "markdown",
   "metadata": {},
   "source": [
    "The vector is $[(1,1/2),(1,-1/2),(0,1/2),(0,-1/2),(-1,1/2),(-1,-1/2)]$"
   ]
  }
 ],
 "metadata": {
  "kernelspec": {
   "display_name": "Python 3",
   "language": "python",
   "name": "python3"
  },
  "language_info": {
   "codemirror_mode": {
    "name": "ipython",
    "version": 3
   },
   "file_extension": ".py",
   "mimetype": "text/x-python",
   "name": "python",
   "nbconvert_exporter": "python",
   "pygments_lexer": "ipython3",
   "version": "3.8.5"
  }
 },
 "nbformat": 4,
 "nbformat_minor": 4
}
