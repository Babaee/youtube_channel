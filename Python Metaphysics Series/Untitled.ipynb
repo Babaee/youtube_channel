{
 "cells": [
  {
   "cell_type": "code",
   "execution_count": 16,
   "metadata": {},
   "outputs": [],
   "source": [
    "import numpy as np\n",
    "import scipy as sp\n",
    "from scipy.linalg import eig, eigh\n",
    "import sympy as smp\n",
    "from sympy import Matrix\n",
    "from sympy.physics.quantum import TensorProduct\n",
    "from sympy.matrices import matrix_multiply_elementwise"
   ]
  },
  {
   "cell_type": "markdown",
   "metadata": {},
   "source": [
    "# The Spin Matrices"
   ]
  },
  {
   "cell_type": "markdown",
   "metadata": {},
   "source": [
    "For both spin 1/2 and spin 1"
   ]
  },
  {
   "cell_type": "code",
   "execution_count": 17,
   "metadata": {},
   "outputs": [],
   "source": [
    "Sxa = smp.Rational(1, 2)* smp.Matrix([[0, 1],\n",
    "                                     [1, 0]])\n",
    "Sya = smp.Rational(1, 2)* smp.Matrix([[0, -smp.I],\n",
    "                                      [smp.I, 0]])\n",
    "Sza = smp.Rational(1, 2)* smp.Matrix([[1, 0],\n",
    "                                      [0, -1]])\n",
    "\n",
    "Sxb = 1/smp.sqrt(2) * smp.Matrix([[0, 1, 0],\n",
    "                                  [1, 0, 1],\n",
    "                                  [0, 1, 0]])\n",
    "Syb = 1/smp.sqrt(2) * smp.Matrix([[0, -smp.I, 0],\n",
    "                                  [smp.I, 0, -smp.I],\n",
    "                                  [0, smp.I, 0]])\n",
    "Szb = smp.Matrix([[1, 0, 0],\n",
    "                  [0, 0, 0],\n",
    "                  [0, 0, -1]])\n",
    "S2a = Sxa@Sxa + Sya@Sya + Sza@Sza"
   ]
  },
  {
   "cell_type": "markdown",
   "metadata": {},
   "source": [
    "**What do these matrices mean?**\n",
    "\n",
    "These matrices are expressed in the basis of $S_z$ eigenvectors which in the case of \n",
    "\n",
    "* spin 1/2 have eigenvectors $\\left<1, 0\\right>$ ($m=1/2$)  and $\\left<0,1\\right>$ ($m=-1/2$)\n",
    "* spin 1 have eigenvectors $\\left<1, 0, 0\\right>$ ($m=1$) and $\\left<0, 1, 0\\right>$ ($m=0$) and $\\left<0, 0, 1\\right>$ ($m=-1$)\n",
    "\n",
    "Furthermore, since $S^2$ commutes with $S_z$, they share common eigenvectors \n",
    "* makes sense because spin 1/2, for example, should be in an eigenstate with $s=1/2$"
   ]
  },
  {
   "cell_type": "code",
   "execution_count": 18,
   "metadata": {},
   "outputs": [
    {
     "data": {
      "text/latex": [
       "$\\displaystyle \\left[\\begin{matrix}0 & 0\\\\0 & 0\\end{matrix}\\right]$"
      ],
      "text/plain": [
       "Matrix([\n",
       "[0, 0],\n",
       "[0, 0]])"
      ]
     },
     "execution_count": 18,
     "metadata": {},
     "output_type": "execute_result"
    }
   ],
   "source": [
    "S2a@Sza-Sza@S2a"
   ]
  },
  {
   "cell_type": "markdown",
   "metadata": {},
   "source": [
    "Now if we put a spin 1/2 and spin 1 particle together, we need a vector that takes into account all possible states\n",
    "\n",
    "$$\\begin{bmatrix}\n",
    "\\left<1,0,0\\right> \\text{and} \\left<1,0\\right>\\\\\n",
    "\\left<0,1,0\\right> \\text{and} \\left<1,0\\right>\\\\\n",
    "\\left<0,0,1\\right> \\text{and} \\left<1,0\\right>\\\\\n",
    "\\left<1,0,0\\right> \\text{and} \\left<0,1\\right>\\\\\n",
    "\\left<0,1,0\\right> \\text{and} \\left<0,1\\right>\\\\\n",
    "\\left<0,0,1\\right> \\text{and} \\left<0,1\\right>\\\\\n",
    "\\end{bmatrix}$$"
   ]
  },
  {
   "cell_type": "markdown",
   "metadata": {},
   "source": [
    "What matrix will then give us $Sz$ for the spin-1 particle then? Can check that\n",
    "\n",
    "$$\\begin{bmatrix} S_z& [0]_{3x3}\\\\ [0]_{3x3} & S_z \\end{bmatrix} = \\begin{bmatrix} 1&0&0&0&0&0\\\\ 0&0&0&0&0&0\\\\ 0&0&-1&0&0&0\\\\ 0&0&0&1&0&0\\\\ 0&0&0&0&0&0\\\\ 0&0&0&0&0&-1\\\\\\end{bmatrix}$$\n",
    "\n",
    "gives the right values"
   ]
  },
  {
   "cell_type": "code",
   "execution_count": 32,
   "metadata": {},
   "outputs": [
    {
     "data": {
      "text/latex": [
       "$\\displaystyle \\left[\\begin{matrix}1 & 0 & 0 & 0 & 0 & 0\\\\0 & 0 & 0 & 0 & 0 & 0\\\\0 & 0 & -1 & 0 & 0 & 0\\\\0 & 0 & 0 & 1 & 0 & 0\\\\0 & 0 & 0 & 0 & 0 & 0\\\\0 & 0 & 0 & 0 & 0 & -1\\end{matrix}\\right]$"
      ],
      "text/plain": [
       "Matrix([\n",
       "[1, 0,  0, 0, 0,  0],\n",
       "[0, 0,  0, 0, 0,  0],\n",
       "[0, 0, -1, 0, 0,  0],\n",
       "[0, 0,  0, 1, 0,  0],\n",
       "[0, 0,  0, 0, 0,  0],\n",
       "[0, 0,  0, 0, 0, -1]])"
      ]
     },
     "execution_count": 32,
     "metadata": {},
     "output_type": "execute_result"
    }
   ],
   "source": [
    "TensorProduct(smp.eye(2), Szb)"
   ]
  },
  {
   "cell_type": "code",
   "execution_count": 33,
   "metadata": {},
   "outputs": [
    {
     "data": {
      "text/latex": [
       "$\\displaystyle \\left[\\begin{matrix}1\\\\0\\\\0\\\\0\\\\0\\\\0\\end{matrix}\\right]$"
      ],
      "text/plain": [
       "Matrix([\n",
       "[1],\n",
       "[0],\n",
       "[0],\n",
       "[0],\n",
       "[0],\n",
       "[0]])"
      ]
     },
     "execution_count": 33,
     "metadata": {},
     "output_type": "execute_result"
    }
   ],
   "source": [
    "TensorProduct(smp.eye(2), Szb)@smp.Matrix([1,0,0,0,0,0])"
   ]
  },
  {
   "cell_type": "markdown",
   "metadata": {},
   "source": [
    "But what about the spin 1/2 particle? Can check that\n",
    "\n",
    "$$\\frac{1}{2}\\begin{bmatrix} 1I_{3x3}&0I_{3x3}\\\\0I_{3x3}&-1I_{3x3} \\end{bmatrix} =  \\frac{1}{2}\\begin{bmatrix} 1&0&0&0&0&0\\\\ 0&1&0&0&0&0\\\\ 0&0&1&0&0&0\\\\ 0&0&0&-1&0&0\\\\ 0&0&0&0&-1&0\\\\ 0&0&0&0&0&-1\\\\\\end{bmatrix} $$\n",
    "\n",
    "gives the right values"
   ]
  },
  {
   "cell_type": "code",
   "execution_count": 34,
   "metadata": {},
   "outputs": [
    {
     "data": {
      "text/latex": [
       "$\\displaystyle \\left[\\begin{matrix}\\frac{1}{2} & 0 & 0 & 0 & 0 & 0\\\\0 & \\frac{1}{2} & 0 & 0 & 0 & 0\\\\0 & 0 & \\frac{1}{2} & 0 & 0 & 0\\\\0 & 0 & 0 & - \\frac{1}{2} & 0 & 0\\\\0 & 0 & 0 & 0 & - \\frac{1}{2} & 0\\\\0 & 0 & 0 & 0 & 0 & - \\frac{1}{2}\\end{matrix}\\right]$"
      ],
      "text/plain": [
       "Matrix([\n",
       "[1/2,   0,   0,    0,    0,    0],\n",
       "[  0, 1/2,   0,    0,    0,    0],\n",
       "[  0,   0, 1/2,    0,    0,    0],\n",
       "[  0,   0,   0, -1/2,    0,    0],\n",
       "[  0,   0,   0,    0, -1/2,    0],\n",
       "[  0,   0,   0,    0,    0, -1/2]])"
      ]
     },
     "execution_count": 34,
     "metadata": {},
     "output_type": "execute_result"
    }
   ],
   "source": [
    "TensorProduct(Sza, smp.eye(3))"
   ]
  },
  {
   "cell_type": "code",
   "execution_count": 36,
   "metadata": {},
   "outputs": [
    {
     "data": {
      "text/latex": [
       "$\\displaystyle \\left[\\begin{matrix}0\\\\0\\\\0\\\\- \\frac{1}{2}\\\\0\\\\0\\end{matrix}\\right]$"
      ],
      "text/plain": [
       "Matrix([\n",
       "[   0],\n",
       "[   0],\n",
       "[   0],\n",
       "[-1/2],\n",
       "[   0],\n",
       "[   0]])"
      ]
     },
     "execution_count": 36,
     "metadata": {},
     "output_type": "execute_result"
    }
   ],
   "source": [
    "TensorProduct(Sza, smp.eye(3))@smp.Matrix([0,0,0,1,0,0])"
   ]
  },
  {
   "cell_type": "markdown",
   "metadata": {},
   "source": [
    "In order to get the sum of the z-components, we need to add both matrices"
   ]
  },
  {
   "cell_type": "code",
   "execution_count": 39,
   "metadata": {},
   "outputs": [
    {
     "data": {
      "text/latex": [
       "$\\displaystyle \\left[\\begin{matrix}0\\\\0\\\\- \\frac{1}{2}\\\\0\\\\0\\\\0\\end{matrix}\\right]$"
      ],
      "text/plain": [
       "Matrix([\n",
       "[   0],\n",
       "[   0],\n",
       "[-1/2],\n",
       "[   0],\n",
       "[   0],\n",
       "[   0]])"
      ]
     },
     "execution_count": 39,
     "metadata": {},
     "output_type": "execute_result"
    }
   ],
   "source": [
    "(TensorProduct(Sza, smp.eye(3)) + TensorProduct(smp.eye(2), Szb))@(smp.Matrix([0,0,1,0,0,0]))"
   ]
  },
  {
   "cell_type": "markdown",
   "metadata": {},
   "source": [
    "So we can create these matrices for the **total** $S_x$, $S_y$, and $S_z$"
   ]
  },
  {
   "cell_type": "code",
   "execution_count": 20,
   "metadata": {},
   "outputs": [],
   "source": [
    "Sx_2 = TensorProduct(smp.eye(2), Sxb) + TensorProduct(Sxa ,smp.eye(3))\n",
    "Sy_2 = TensorProduct(smp.eye(2), Syb) + TensorProduct(Sya, smp.eye(3))\n",
    "Sz_2 = TensorProduct(smp.eye(2), Szb) + TensorProduct(Sza, smp.eye(3))\n",
    "S2_2 = Sx_2@Sx_2 + Sy_2@Sy_2 +Sz_2@Sz_2"
   ]
  },
  {
   "cell_type": "markdown",
   "metadata": {},
   "source": [
    "Check that the matrices commute"
   ]
  },
  {
   "cell_type": "code",
   "execution_count": 21,
   "metadata": {},
   "outputs": [
    {
     "data": {
      "text/latex": [
       "$\\displaystyle \\left[\\begin{matrix}0 & 0 & 0 & 0 & 0 & 0\\\\0 & 0 & 0 & 0 & 0 & 0\\\\0 & 0 & 0 & 0 & 0 & 0\\\\0 & 0 & 0 & 0 & 0 & 0\\\\0 & 0 & 0 & 0 & 0 & 0\\\\0 & 0 & 0 & 0 & 0 & 0\\end{matrix}\\right]$"
      ],
      "text/plain": [
       "Matrix([\n",
       "[0, 0, 0, 0, 0, 0],\n",
       "[0, 0, 0, 0, 0, 0],\n",
       "[0, 0, 0, 0, 0, 0],\n",
       "[0, 0, 0, 0, 0, 0],\n",
       "[0, 0, 0, 0, 0, 0],\n",
       "[0, 0, 0, 0, 0, 0]])"
      ]
     },
     "execution_count": 21,
     "metadata": {},
     "output_type": "execute_result"
    }
   ],
   "source": [
    "S2_2@Sz_2 - Sz_2@S2_2"
   ]
  },
  {
   "cell_type": "code",
   "execution_count": 22,
   "metadata": {},
   "outputs": [
    {
     "data": {
      "text/plain": [
       "[(3/4,\n",
       "  2,\n",
       "  [Matrix([\n",
       "   [         0],\n",
       "   [-sqrt(2)/2],\n",
       "   [         0],\n",
       "   [         1],\n",
       "   [         0],\n",
       "   [         0]]),\n",
       "   Matrix([\n",
       "   [       0],\n",
       "   [       0],\n",
       "   [-sqrt(2)],\n",
       "   [       0],\n",
       "   [       1],\n",
       "   [       0]])]),\n",
       " (15/4,\n",
       "  4,\n",
       "  [Matrix([\n",
       "   [1],\n",
       "   [0],\n",
       "   [0],\n",
       "   [0],\n",
       "   [0],\n",
       "   [0]]),\n",
       "   Matrix([\n",
       "   [      0],\n",
       "   [sqrt(2)],\n",
       "   [      0],\n",
       "   [      1],\n",
       "   [      0],\n",
       "   [      0]]),\n",
       "   Matrix([\n",
       "   [        0],\n",
       "   [        0],\n",
       "   [sqrt(2)/2],\n",
       "   [        0],\n",
       "   [        1],\n",
       "   [        0]]),\n",
       "   Matrix([\n",
       "   [0],\n",
       "   [0],\n",
       "   [0],\n",
       "   [0],\n",
       "   [0],\n",
       "   [1]])])]"
      ]
     },
     "execution_count": 22,
     "metadata": {},
     "output_type": "execute_result"
    }
   ],
   "source": [
    "info = S2_2.eigenvects(simplify=True)\n",
    "info"
   ]
  },
  {
   "cell_type": "code",
   "execution_count": 23,
   "metadata": {},
   "outputs": [],
   "source": [
    "eig_vals = np.array(S2_2.eigenvals(multiple=True), dtype=float)"
   ]
  },
  {
   "cell_type": "markdown",
   "metadata": {},
   "source": [
    "Eigenvalue $E=s(s+1) \\implies s= \\left(-1 + \\sqrt{1+4E}\\right)/2$"
   ]
  },
  {
   "cell_type": "code",
   "execution_count": 24,
   "metadata": {},
   "outputs": [
    {
     "data": {
      "text/latex": [
       "$\\displaystyle \\left[\\begin{matrix}0.5 & 0.5 & 1.5 & 1.5 & 1.5 & 1.5\\end{matrix}\\right]$"
      ],
      "text/plain": [
       "Matrix([[0.5, 0.5, 1.5, 1.5, 1.5, 1.5]])"
      ]
     },
     "execution_count": 24,
     "metadata": {},
     "output_type": "execute_result"
    }
   ],
   "source": [
    "tot_spins = smp.Matrix((-1+np.sqrt(1+4*eig_vals))/2)\n",
    "tot_spins.T"
   ]
  },
  {
   "cell_type": "code",
   "execution_count": 25,
   "metadata": {},
   "outputs": [
    {
     "data": {
      "text/latex": [
       "$\\displaystyle \\left[\\begin{matrix}\\frac{1}{2} & - \\frac{1}{2} & \\frac{3}{2} & \\frac{1}{2} & - \\frac{1}{2} & - \\frac{3}{2}\\end{matrix}\\right]$"
      ],
      "text/plain": [
       "Matrix([[1/2, -1/2, 3/2, 1/2, -1/2, -3/2]])"
      ]
     },
     "execution_count": 25,
     "metadata": {},
     "output_type": "execute_result"
    }
   ],
   "source": [
    "eig_vecs = [vec/vec.norm() for le in info for vec in le[2]]\n",
    "z_spins = smp.Matrix([eig_vecs[i].T@Sz_2@eig_vecs[i] for i in range(len(eig_vecs))]).T\n",
    "z_spins"
   ]
  },
  {
   "cell_type": "code",
   "execution_count": 26,
   "metadata": {},
   "outputs": [
    {
     "data": {
      "text/latex": [
       "$\\displaystyle \\left[\\begin{matrix}0 & 0 & \\frac{2}{3} & 0 & \\frac{1}{3} & 0\\end{matrix}\\right]$"
      ],
      "text/plain": [
       "Matrix([[0, 0, 2/3, 0, 1/3, 0]])"
      ]
     },
     "execution_count": 26,
     "metadata": {},
     "output_type": "execute_result"
    }
   ],
   "source": [
    "matrix_multiply_elementwise(eig_vecs[1], eig_vecs[1]).T"
   ]
  },
  {
   "cell_type": "markdown",
   "metadata": {},
   "source": [
    "The vector is $[(1,1/2),(1,-1/2),(0,1/2),(0,-1/2),(-1,1/2),(-1,-1/2)]$"
   ]
  }
 ],
 "metadata": {
  "kernelspec": {
   "display_name": "Python 3",
   "language": "python",
   "name": "python3"
  },
  "language_info": {
   "codemirror_mode": {
    "name": "ipython",
    "version": 3
   },
   "file_extension": ".py",
   "mimetype": "text/x-python",
   "name": "python",
   "nbconvert_exporter": "python",
   "pygments_lexer": "ipython3",
   "version": "3.8.5"
  }
 },
 "nbformat": 4,
 "nbformat_minor": 4
}
